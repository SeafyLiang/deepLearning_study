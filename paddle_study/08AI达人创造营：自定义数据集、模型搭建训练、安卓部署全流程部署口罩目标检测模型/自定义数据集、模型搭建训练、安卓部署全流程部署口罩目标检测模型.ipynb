{
 "cells": [
  {
   "cell_type": "markdown",
   "metadata": {
    "collapsed": false
   },
   "source": [
    "## 一 项目简介\n",
    "- 1 该项目使用Labelimg进行数据标注，自定义数据集；\n",
    "- 2 使用Paddlex将数据集划分为训练集、测试集；\n",
    "- 3 使用PaddleDetection目标检测套件训练模型；\n",
    "- 4 最后导出模型，通过PaddleLite生成.nb文件，部署到手机上；\n",
    "- 5 安卓部署详细操作；\n",
    "- （1）配置系统环境\n",
    "- （2）下载PaddleLite-dome\n",
    "- （3）下载Android Studio开发环境并配置软件环境\n",
    "- （4）dome调试\n",
    "- （5）根据dome，加入自己的模型，修改配置，实现自己的dome，并调试\n",
    "- （6）将APP打包成可安装程序.apk文件\n",
    "- 实现飞桨框架深度学习模型从0到1的全流程。"
   ]
  },
  {
   "cell_type": "markdown",
   "metadata": {
    "collapsed": false
   },
   "source": [
    "## 二 数据标注\n",
    "- 个人建议安装Anaconda便于对包环境的管理，在Anaconda环境中安装Labelimg（b站有这类教学视频，若还有不明白的地方可评论区解答）\n",
    "- 下面讲解安装成功后操作流程\n",
    "- 1 新建数据集文件夹：JPEGImages文件存放事先准备好的图片，Annotations文件存放xml标注文件（未标注时此文件为空）\n",
    "\n",
    "![](https://ai-studio-static-online.cdn.bcebos.com/2a4d694177f34f9db0803fc20b1706f68936d2f4282a43fa84e60f9f3e5baef3)\n",
    "\n",
    "- 2 打开Labelimg：点击Change Save Dir找到刚刚创建的Annotations文件；点击Open Dir找到JPEGImages文件；快捷键按D，拖拽选中区域，并在弹框内打标签；点击Next Image对下一张图片进行标注（此时会弹出是否保存的提示框，可勾选View->Auto Save mode，默认将每张图片标注完后自动保存）\n",
    "\n",
    "![](https://ai-studio-static-online.cdn.bcebos.com/4df4a9df88e1461b8a7310cdd9fc457174ed4e96c0f84108babe41c89a34cb31)\n",
    "\n",
    "- 3 上述步骤完成后，Annotations文件中会产生一堆xml文件，格式如下，\n",
    "\n",
    "![](https://ai-studio-static-online.cdn.bcebos.com/b5a62383c4c84248ad7b541afd8fb7fd1294ca7ca46b4691bce937476a31110b)\n",
    "\n",
    "- 4 最后将文件压缩上传到aistudio"
   ]
  },
  {
   "cell_type": "markdown",
   "metadata": {
    "collapsed": false
   },
   "source": [
    "## 三 paddlex划分数据集"
   ]
  },
  {
   "cell_type": "code",
   "execution_count": null,
   "metadata": {
    "collapsed": false
   },
   "outputs": [],
   "source": [
    "#将数据集进行解压（此处可换成你自己标注的数据集）\r\n",
    "!unzip data/data88819/VOC_MASK.zip -d masks"
   ]
  },
  {
   "cell_type": "code",
   "execution_count": null,
   "metadata": {
    "collapsed": false
   },
   "outputs": [],
   "source": [
    "# 准备一些可能用到的工具库\r\n",
    "import xml.etree.cElementTree as ET\r\n",
    "import os\r\n",
    "import cv2\r\n",
    "import numpy as np\r\n",
    "import matplotlib.pyplot as plt\r\n",
    "import matplotlib.patches as patches\r\n",
    "import math\r\n",
    "import paddle.fluid as fluid\r\n",
    "import time\r\n",
    "import random"
   ]
  },
  {
   "cell_type": "code",
   "execution_count": null,
   "metadata": {
    "collapsed": false
   },
   "outputs": [],
   "source": [
    "# 导入paddlex\r\n",
    "!pip install paddlex"
   ]
  },
  {
   "cell_type": "code",
   "execution_count": null,
   "metadata": {
    "collapsed": false
   },
   "outputs": [
    {
     "name": "stdout",
     "output_type": "stream",
     "text": [
      "Dataset Split Done.\u001b[0m\r\n",
      "\u001b[0mTrain samples: 5567\u001b[0m\r\n",
      "\u001b[0mEval samples: 1590\u001b[0m\r\n",
      "\u001b[0mTest samples: 795\u001b[0m\r\n",
      "\u001b[0mSplit files saved in masks/VOC_MASK\u001b[0m\r\n",
      "\u001b[0m\u001b[0m"
     ]
    }
   ],
   "source": [
    "# 使用paddlex进行数据集的划分训练集、验证集、测试集\r\n",
    "!paddlex --split_dataset --format VOC --dataset_dir masks/VOC_MASK --val_value 0.2 --test_value 0.1"
   ]
  },
  {
   "cell_type": "markdown",
   "metadata": {
    "collapsed": false
   },
   "source": [
    "执行完上述代码可以看到，masks/VOC_MASK目录下会自动生成以下文件：\n",
    "\n",
    "- val_list.txt 验证集列表\n",
    "- test_list.txt 测试集列表\n",
    "- labels.txt 标签列表\n",
    "- train_list.txt 训练集列表"
   ]
  },
  {
   "cell_type": "markdown",
   "metadata": {
    "collapsed": false
   },
   "source": [
    "## 四 PaddleDetection目标检测套件使用，进行模型的创建、训练、导出"
   ]
  },
  {
   "cell_type": "markdown",
   "metadata": {
    "collapsed": false
   },
   "source": [
    "### 1 PaddleDetection下载、配置、数据集文件的处理"
   ]
  },
  {
   "cell_type": "code",
   "execution_count": null,
   "metadata": {
    "collapsed": false
   },
   "outputs": [],
   "source": [
    "# 下载PaddleDetection到本地\r\n",
    "# 为避免因PaddleDetection更新导致代码报错，我将我的PaddleDetection版本挂载到数据集里了data/data88824/model_PaddleDetection.zip，可解压使用\r\n",
    "!git clone https://gitee.com/paddlepaddle/PaddleDetection.git"
   ]
  },
  {
   "cell_type": "code",
   "execution_count": null,
   "metadata": {
    "collapsed": false
   },
   "outputs": [],
   "source": [
    "# 把PaddleDetection转移到work目录下，可以持久保存\r\n",
    "!mv PaddleDetection work/"
   ]
  },
  {
   "cell_type": "code",
   "execution_count": null,
   "metadata": {
    "collapsed": false
   },
   "outputs": [],
   "source": [
    "#配置PaddleDetection环境\r\n",
    "!pip install -r work/PaddleDetection/requirements.txt"
   ]
  },
  {
   "cell_type": "code",
   "execution_count": null,
   "metadata": {
    "collapsed": false
   },
   "outputs": [],
   "source": [
    "#将数据集转到PaddleDetection/dataset，专门存放和处理数据集的文件\r\n",
    "!cp -r masks/VOC_MASK work/PaddleDetection/dataset/"
   ]
  },
  {
   "cell_type": "code",
   "execution_count": null,
   "metadata": {
    "collapsed": false
   },
   "outputs": [
    {
     "name": "stdout",
     "output_type": "stream",
     "text": [
      "/home/aistudio/work/PaddleDetection\n"
     ]
    }
   ],
   "source": [
    "%cd work/PaddleDetection"
   ]
  },
  {
   "cell_type": "code",
   "execution_count": null,
   "metadata": {
    "collapsed": false
   },
   "outputs": [],
   "source": [
    "# 调整下标注文件命名，与PaddleDetection默认的一致（处理成相同文件名）\r\n",
    "!mv dataset/VOC_MASK/labels.txt dataset/VOC_MASK/label_list.txt"
   ]
  },
  {
   "cell_type": "markdown",
   "metadata": {
    "collapsed": false
   },
   "source": [
    "### 2 修改模型文件"
   ]
  },
  {
   "cell_type": "markdown",
   "metadata": {
    "collapsed": false
   },
   "source": [
    "#### 修改模型主文件ssd_mobilenet_v1_300_120e_voc.yml\n",
    "此处用的SSD模型，主干网络是Mobilnet（比VGG更轻量级的网络，适合于移动端部署），图片输入尺寸300x300，数据集格式voc\n",
    "\n",
    "- ssd_mobilenet_v1_300_120e_voc.yml 文件入口\n",
    "\n",
    "文件地址：work/PaddleDetection/configs/ssd/ssd_mobilenet_v1_300_120e_voc.yml\n",
    "```\n",
    "_BASE_: [\n",
    "  '../datasets/voc.yml',\n",
    "  '../runtime.yml',\n",
    "  '_base_/optimizer_120e.yml',\n",
    "  '_base_/ssd_mobilenet_v1_300.yml',\n",
    "  '_base_/ssd_mobilenet_reader.yml',\n",
    "]\n",
    "weights: output/ssd_mobilenet_v1_300_120e_voc/model_final # 模型权重文件保存路径\n",
    "```\n",
    "\n",
    "- voc.yml 主要说明了训练数据和验证数据的路径\n",
    "文件地址：work/PaddleDetection/configs/datasets/voc.yml\n",
    "```\n",
    "metric: VOC\n",
    "map_type: 11point\n",
    "num_classes: 3  # 类别数+1（背景类）\n",
    "\n",
    "TrainDataset:\n",
    "  !VOCDataSet\n",
    "    dataset_dir: dataset/VOC_MASK  # 数据集存放位置\n",
    "    anno_path: train_list.txt    # 训练集\n",
    "    label_list: label_list.txt   # 标签\n",
    "    data_fields: ['image', 'gt_bbox', 'gt_class', 'difficult']\n",
    "\n",
    "EvalDataset:\n",
    "  !VOCDataSet\n",
    "    dataset_dir: dataset/VOC_MASK   # 数据集存放位置\n",
    "    anno_path: val_list.txt    # 验证集\n",
    "    label_list: label_list.txt  # 标签\n",
    "    data_fields: ['image', 'gt_bbox', 'gt_class', 'difficult']\n",
    "\n",
    "TestDataset:\n",
    "  !ImageFolder\n",
    "    anno_path: dataset/VOC_MASK/label_list.txt  # 标签文件所在地址\n",
    "```\n",
    "\n",
    "- runtime.yml 主要说明了公共的运行参数，比如说是否使用GPU、每多少个epoch存储checkpoint等。\n",
    "文件地址：work/PaddleDetection/configs/runtime.yml\n",
    "```\n",
    "use_gpu: true  # 使用gpu\n",
    "log_iter: 20  \n",
    "save_dir: output\n",
    "snapshot_epoch: 1  # 1个epoch输出验证\n",
    "```\n",
    "\n",
    "- optimizer_120e.yml 主要说明了学习率和优化器的配置。\n",
    "文件地址：work/PaddleDetection/configs/ssd/_base_/optimizer_120e.yml\n",
    "```\n",
    "epoch: 20  # 训练轮次\n",
    "\n",
    "LearningRate:\n",
    "  base_lr: 0.001  # 学习率\n",
    "  schedulers:\n",
    "  - !PiecewiseDecay\n",
    "    milestones: [40, 60, 80, 100]\n",
    "    values: [0.001, 0.0005, 0.00025, 0.0001, 0.00001]\n",
    "    use_warmup: false\n",
    "\n",
    "OptimizerBuilder:  # 优化器\n",
    "  optimizer:\n",
    "    momentum: 0.0\n",
    "    type: RMSProp\n",
    "  regularizer:\n",
    "    factor: 0.00005\n",
    "    type: L2\n",
    "```\n",
    "\n",
    "- ssd_mobilenet_v1_300.yml 主要说明模型、和主干网络的情况。\n",
    "文件地址：work/PaddleDetection/configs/ssd/_base_/ssd_mobilenet_v1_300.yml\n",
    "\n",
    "- ssd_mobilenet_reader.yml 主要说明数据读取器配置，如batch size，并发加载子进程数等，同时包含读取后预处理操作，如resize、数据增强等等-。\n",
    "文件地址：work/PaddleDetection/configs/ssd/_base_/ssd_mobilenet_reader.yml\n",
    "\n",
    "> - 更多详细操作参考[PaddleDetection的github链接](https://github.com/PaddlePaddle/PaddleDetection)"
   ]
  },
  {
   "cell_type": "markdown",
   "metadata": {
    "collapsed": false
   },
   "source": [
    "### 3 模型训练"
   ]
  },
  {
   "cell_type": "code",
   "execution_count": 4,
   "metadata": {
    "collapsed": false
   },
   "outputs": [],
   "source": [
    "# 配置文件在work/PaddleDetection/configs/ssd/ssd_mobilenet_v1_voc.yml，模型保存在work/PaddleDetection/output\r\n",
    "# 可使用可视化工具VisualDL,文件在work/PaddleDetection/vdl_log_dir（需要模型运行时才能产出）\r\n",
    "!python -u tools/train.py -c configs/ssd/ssd_mobilenet_v1_300_120e_voc.yml --use_vdl True --eval"
   ]
  },
  {
   "cell_type": "markdown",
   "metadata": {
    "collapsed": false
   },
   "source": [
    "> - 由于时间原因，没训练多少次\n",
    "\n",
    "![](https://ai-studio-static-online.cdn.bcebos.com/d202c5e9d71c4a669af3286802a50d91dd154b7db84241e584cf2285b8b78e2d)\n",
    "\n",
    "![](https://ai-studio-static-online.cdn.bcebos.com/2a58fb65d2e24427b768f3b84a5305447bbf14f05ce54ad8a4448b27ea89e47e)\n"
   ]
  },
  {
   "cell_type": "markdown",
   "metadata": {
    "collapsed": false
   },
   "source": [
    "### 4 模型预测效果展示"
   ]
  },
  {
   "cell_type": "code",
   "execution_count": 5,
   "metadata": {
    "collapsed": false
   },
   "outputs": [],
   "source": [
    "#测试，查看模型效果，结果存放在work/PaddleDetection/output\r\n",
    "%cd /home/aistudio/work/PaddleDetection/\r\n",
    "!python tools/infer.py -c configs/ssd/ssd_mobilenet_v1_300_120e_voc.yml --infer_img=/home/aistudio/001.jpg -o weights=output/ssd_mobilenet_v1_300_120e_voc/best_model.pdparams"
   ]
  },
  {
   "cell_type": "code",
   "execution_count": 6,
   "metadata": {
    "collapsed": false
   },
   "outputs": [
    {
     "name": "stdout",
     "output_type": "stream",
     "text": [
      "/home/aistudio\n"
     ]
    }
   ],
   "source": [
    "%cd /home/aistudio/"
   ]
  },
  {
   "cell_type": "code",
   "execution_count": 7,
   "metadata": {
    "collapsed": false
   },
   "outputs": [],
   "source": [
    "import matplotlib.pyplot as plt\r\n",
    "import PIL.Image as Image"
   ]
  },
  {
   "cell_type": "code",
   "execution_count": 8,
   "metadata": {
    "collapsed": false
   },
   "outputs": [
    {
     "name": "stderr",
     "output_type": "stream",
     "text": [
      "/opt/conda/envs/python35-paddle120-env/lib/python3.7/site-packages/matplotlib/cbook/__init__.py:2349: DeprecationWarning: Using or importing the ABCs from 'collections' instead of from 'collections.abc' is deprecated, and in 3.8 it will stop working\n",
      "  if isinstance(obj, collections.Iterator):\n",
      "/opt/conda/envs/python35-paddle120-env/lib/python3.7/site-packages/matplotlib/cbook/__init__.py:2366: DeprecationWarning: Using or importing the ABCs from 'collections' instead of from 'collections.abc' is deprecated, and in 3.8 it will stop working\n",
      "  return list(data) if isinstance(data, collections.MappingView) else data\n"
     ]
    },
    {
     "data": {
      "image/png": "[encoded data removed]",
      "text/plain": [
       "<Figure size 432x288 with 1 Axes>"
      ]
     },
     "metadata": {},
     "output_type": "display_data"
    }
   ],
   "source": [
    "path='work/PaddleDetection/output/001.jpg'\r\n",
    "img = Image.open(path)\r\n",
    "plt.imshow(img)          #根据数组绘制图像\r\n",
    "plt.show()               #显示图像"
   ]
  },
  {
   "cell_type": "markdown",
   "metadata": {
    "collapsed": false
   },
   "source": [
    "### 5 模型导出"
   ]
  },
  {
   "cell_type": "code",
   "execution_count": 9,
   "metadata": {
    "collapsed": false
   },
   "outputs": [],
   "source": [
    "%cd /home/aistudio/work/PaddleDetection/"
   ]
  },
  {
   "cell_type": "code",
   "execution_count": 10,
   "metadata": {
    "collapsed": false
   },
   "outputs": [],
   "source": [
    "# 导出模型\r\n",
    "!python tools/export_model.py -c configs/ssd/ssd_mobilenet_v1_300_120e_voc.yml -o weights=output/ssd_mobilenet_v1_300_120e_voc/best_model.pdparams --output_dir ./inference"
   ]
  },
  {
   "cell_type": "markdown",
   "metadata": {
    "collapsed": false
   },
   "source": [
    "## 五 PaddleLite生成.nb模型文件\n",
    "[PaddleLite文档](https://paddle-lite.readthedocs.io/zh/latest/demo_guides/android_app_demo.html)"
   ]
  },
  {
   "cell_type": "code",
   "execution_count": 1,
   "metadata": {
    "collapsed": false
   },
   "outputs": [
    {
     "name": "stdout",
     "output_type": "stream",
     "text": [
      "Looking in indexes: https://mirror.baidu.com/pypi/simple/\n",
      "Collecting paddlelite\n",
      "\u001b[?25l  Downloading https://mirror.baidu.com/pypi/packages/77/5e/2f463252bcf7de6d594cff2a89f76c643088946203846fbdb845f9cb5378/paddlelite-2.9-cp37-cp37m-manylinux1_x86_64.whl (45.8MB)\n",
      "\u001b[K     |████████████████████████████████| 45.8MB 6.1MB/s eta 0:00:011\n",
      "\u001b[?25hInstalling collected packages: paddlelite\n",
      "Successfully installed paddlelite-2.9\n"
     ]
    }
   ],
   "source": [
    "# 准备PaddleLite依赖\r\n",
    "!pip install paddlelite"
   ]
  },
  {
   "cell_type": "code",
   "execution_count": 2,
   "metadata": {
    "collapsed": false
   },
   "outputs": [
    {
     "name": "stdout",
     "output_type": "stream",
     "text": [
      "/home/aistudio/work/PaddleDetection\n"
     ]
    }
   ],
   "source": [
    "%cd /home/aistudio/work/PaddleDetection/"
   ]
  },
  {
   "cell_type": "code",
   "execution_count": 3,
   "metadata": {
    "collapsed": false
   },
   "outputs": [
    {
     "name": "stdout",
     "output_type": "stream",
     "text": [
      "Loading topology data from inference/ssd_mobilenet_v1_300_120e_voc/model.pdmodel\n",
      "Loading params data from inference/ssd_mobilenet_v1_300_120e_voc/model.pdiparams\n",
      "1. Model is successfully loaded!\n",
      "[W  7/20 19: 8: 3.101 /island/Paddle-Lite/lite/core/program.cc SaveToProgram:135] Unsupported decl type Tensor<host,any,any,0> for var _generated_var_5 in op conditional_block\n",
      "[W  7/20 19: 8: 3.101 /island/Paddle-Lite/lite/core/program.cc SaveToProgram:135] Unsupported decl type Tensor<host,any,any,0> for var _generated_var_2 in op conditional_block\n",
      "2. Model is optimized and saved into ./inference/ssd_mobilenet_v1_300_120e_voc.nb successfully\n"
     ]
    }
   ],
   "source": [
    "# 准备PaddleLite部署模型\r\n",
    "#--valid_targets中参数（arm）用于传统手机，（npu,arm ）用于华为带有npu处理器的手机\r\n",
    "!paddle_lite_opt \\\r\n",
    "    --model_file=inference/ssd_mobilenet_v1_300_120e_voc/model.pdmodel \\\r\n",
    "    --param_file=inference/ssd_mobilenet_v1_300_120e_voc/model.pdiparams \\\r\n",
    "    --optimize_out=./inference/ssd_mobilenet_v1_300_120e_voc \\\r\n",
    "    --optimize_out_type=naive_buffer \\\r\n",
    "    --valid_targets=arm \r\n",
    "    #--valid_targets=npu,arm "
   ]
  },
  {
   "cell_type": "markdown",
   "metadata": {
    "collapsed": false
   },
   "source": [
    "## 六 安卓端部署"
   ]
  },
  {
   "cell_type": "markdown",
   "metadata": {
    "collapsed": false
   },
   "source": [
    "### 1 准备Android Studio开发环境（安装系统为Ubuntu 64-bit，Win用户可以安装虚拟机进行操作）\n",
    "- 快捷键Ctrl+Alt+t打开终端，安装64位所需库\n",
    "```\n",
    "sudo apt-get install libc6:i386 libncurses5:i386 libstdc++6:i386 lib32z1 libbz2-1.0:i386\n",
    "```\n",
    "- 安装java环境（作者使用的是OpenJDK 8 ）\n",
    "\n",
    "查看java版本\n",
    "```\n",
    "java --version  \n",
    "```\n",
    "下载OpenJDK 8\n",
    "```\n",
    "sudo apt-get install openjdk-8-jdk\n",
    "```\n",
    "若系统存在多个版本的java，输入对应选项的数字切换Java版本（初次安装则不需要执行下面）\n",
    "```\n",
    "update-alternatives --config java\n",
    "```\n",
    "- 安装cmake和ninja环境\n",
    "```\n",
    "# root用户进入命令\n",
    "sudo su\n",
    "# root用户退出命令\n",
    "exit\n",
    "```\n",
    "```\n",
    "# 1. Install basic software 参考官方文档，注意权限，应该是root用户\n",
    "apt update\n",
    "apt-get install -y --no-install-recommends \\\n",
    "  gcc g++ git make wget python unzip adb curl\n",
    "\n",
    "# 2. Install cmake 3.10 or above 参考官方文档，注意权限，应该是root用户\n",
    "wget -c https://mms-res.cdn.bcebos.com/cmake-3.10.3-Linux-x86_64.tar.gz && \\\n",
    "    tar xzf cmake-3.10.3-Linux-x86_64.tar.gz && \\\n",
    "    mv cmake-3.10.3-Linux-x86_64 /opt/cmake-3.10 && \\  \n",
    "    ln -s /opt/cmake-3.10/bin/cmake /usr/bin/cmake && \\\n",
    "    ln -s /opt/cmake-3.10/bin/ccmake /usr/bin/ccmake\n",
    "    \n",
    "# 3. Install ninja-build 此处需退出root用户\n",
    "sudo apt-get install ninja-build\n",
    "```\n",
    "- Android Studio软件安装流程参考官方视频：\n",
    "[Ubuntu上推荐的设置流程](https://developer.android.google.cn/studio/videos/studio-install-linux.mp4?hl=zh-cn)\n",
    "\n",
    "> 注意：安装过程中会如果出现下面的报错`unable to access android sdk add-on lis`，点击`cancel`跳过，这是因为没有事先安装SDK的原因，我们稍后在Android Studio中进行安装。\n"
   ]
  },
  {
   "cell_type": "markdown",
   "metadata": {
    "collapsed": false
   },
   "source": [
    "### 2 导入Paddle-Lite-Demo\n",
    "- 在自己的PC上下载好Paddle-Lite-Demo项目（下面的代码新开一个终端执行，不要在运行Android Studio的终端上操作）\n",
    "```\n",
    "git clone https://gitee.com/paddlepaddle/Paddle-Lite-Demo.git\n",
    "```\n",
    "- 在Android Studio中导入PaddleLite-android-demo目录下object_detection_demo项目，如下图所示\n",
    "![](https://ai-studio-static-online.cdn.bcebos.com/5a3e9a690cc241a7a31726999041487d9d6126ca586e43eeb3288d4bdb88143d)\n"
   ]
  },
  {
   "cell_type": "markdown",
   "metadata": {
    "collapsed": false
   },
   "source": [
    "### 3 配置SDK和NDK\n",
    "- 在开发界面点击File->Settings... 在搜索框中输入sdk\n",
    "![](https://ai-studio-static-online.cdn.bcebos.com/cc469b4918f941898293159bfd895227823d7dede0fd44b8a605cc077178974f)\n",
    "\n",
    "\n",
    "![](https://ai-studio-static-online.cdn.bcebos.com/6212319e0c2b427692963692167878e780bc0f2c2b514cb4b397dda10d93a2ce)\n",
    "\n",
    "- 在开发界面点击File->Project Structure,选取刚刚下载的NDK路径\n",
    "![](https://ai-studio-static-online.cdn.bcebos.com/9e2529ce745b41eba29ece05a8e1b563f8db5f0621f04c7a81365f8fa7ffcb49)\n"
   ]
  },
  {
   "cell_type": "markdown",
   "metadata": {
    "collapsed": false
   },
   "source": [
    "### 4 模型和标签的拷贝\n",
    "- 模型拷贝\n",
    "到PaddleLite-android-demo/object_detection_demo/app/src/main/assets/models目录下，新建ssd_mobv1_mask文件夹，将刚刚生成的.nb文件拷贝到该文佳夹下，并重命名为model.nb,如下图所示。（模型文件我挂载项目的data数据集里了，可先尝试一下）\n",
    "\n",
    "![](https://ai-studio-static-online.cdn.bcebos.com/c9c227435c7840339c25e1b4a39bc3613c805dd5b1f54347a90fdb93d6bbfcdd)\n",
    "- 标签拷贝\n",
    "到PaddleLite-android-demo/object_detection_demo/app/src/main/assets/labels目录下，仿照已有.txt文件新建一个face.txt文件（注意label文件中是background+你数据集的label）,内容如下\n",
    "```\n",
    "background\n",
    "face\n",
    "face_mask\n",
    "```\n",
    "- 拷贝一张测试图片\n",
    "到PaddleLite-android-demo/object_detection_demo/app/src/main/assets/images目录下，拷贝一张项目初始化测试的图片"
   ]
  },
  {
   "cell_type": "markdown",
   "metadata": {
    "collapsed": false
   },
   "source": [
    "### 5 修改项目文件\n",
    "- 修改PaddleLite-android-demo/object_detection_demo/app/src/main/res/values/strings.xml中对应的参数\n",
    "- MODEL_DIR_DEFAULT  模型路径\n",
    "- LABEL_PATH_DEFAULT  标签路径\n",
    "- IMAGE_PATH_DEFAULT  项目初始化测试图片路径\n",
    "![](https://ai-studio-static-online.cdn.bcebos.com/87d9f0665b3948ff861d5b7b7ff317d49eb76a98060446c2b6b12792d5c836df)\n",
    "\n"
   ]
  },
  {
   "cell_type": "markdown",
   "metadata": {
    "collapsed": false
   },
   "source": [
    "### 6 准备手机\n",
    "- 将手机调为开发者模式，将手机通过USB数据线连接到PC上，点击运行，等待一会就好了\n",
    "\n",
    "![](https://ai-studio-static-online.cdn.bcebos.com/5313783414c44aa9a4b42d4e9f0eb89b1f13e037964943c3a3e5fcd63169ce18)\n"
   ]
  },
  {
   "cell_type": "markdown",
   "metadata": {
    "collapsed": false
   },
   "source": [
    "### 7 效果展示\n",
    "- 项目初始界面\n",
    "\n",
    "![](https://ai-studio-static-online.cdn.bcebos.com/5f0d0f51405140f5851ea64df667550a55b7c04e2cda428e9072ef3a5d1ee01c)\n",
    "\n",
    "- 项目通过相机拍取画面（因为拍的是电脑屏幕，看起来有点花）\n",
    "\n",
    "![](https://ai-studio-static-online.cdn.bcebos.com/0393f99bd4c8424792a7b364591674d0d735a2b92f104a7794299c95fa432ff7)\n",
    "\n",
    "- 项目通过调取手机相册的图片\n",
    "\n",
    "![](https://ai-studio-static-online.cdn.bcebos.com/0ef09fa72c154de38011768e929da42c30100be8f1b84298adbd1cf12d44aaa1)\n"
   ]
  },
  {
   "cell_type": "markdown",
   "metadata": {
    "collapsed": false
   },
   "source": [
    "### 8 apk打包\n",
    "- 在工具栏中点击如下\n",
    "\n",
    "![](https://ai-studio-static-online.cdn.bcebos.com/95f2e78c14884f848f9fe74876cc35a76a7c8db4c8e344f391254c5799d7b098)\n",
    "\n",
    "- 选择打包成apk\n",
    "\n",
    "![](https://ai-studio-static-online.cdn.bcebos.com/3402e2b846eb40e3af641310570336f0beba431d9b6e45acbf1acca25d3bf214)\n",
    "\n",
    "- 若第一次打包，需创建新的秘钥文件\n",
    "\n",
    "![](https://ai-studio-static-online.cdn.bcebos.com/f3815daadd0745fe8c205941b53f53d13c59892007704279bba41af6e4a55233)\n",
    "\n",
    "- 创建成功后\n",
    "\n",
    "![](https://ai-studio-static-online.cdn.bcebos.com/06d714fce76946e4b0ccb046ccfe1aacd459e5d0d28c4f058a04030304ab2671)\n",
    "\n",
    "- next，v1、v2都勾选上\n",
    "\n",
    "![](https://ai-studio-static-online.cdn.bcebos.com/c2c9e656978841dd9f27a95364a7e433f647d8076beb47be8200976527425ef0)\n",
    "\n",
    "- 打包成功\n",
    "\n",
    "![](https://ai-studio-static-online.cdn.bcebos.com/164757219405423ca713a81271451b3b0c8bbe2c6ed8458abc6662348e01ae63)\n"
   ]
  },
  {
   "cell_type": "markdown",
   "metadata": {
    "collapsed": false
   },
   "source": [
    "## 小结\n",
    "> - 本次部署选择object_detection_demo是考虑到有的小伙伴想做其它方面的检测，给大家介绍一个通用的检测demo，若专门做口罩检测可选择mask_detection_demo\n",
    "> - 如若存在问题，可在评论区留言，作者会不时为大家讲解\n",
    "> - 作者aistudio主页链接，欢迎各位互粉、提问：[aistudio](https://aistudio.baidu.com/aistudio/personalcenter/thirdview/539945)\n",
    "> - 完结（#￣▽￣#）撒花"
   ]
  },
  {
   "cell_type": "markdown",
   "metadata": {
    "collapsed": false
   },
   "source": [
    "请点击[此处](https://ai.baidu.com/docs#/AIStudio_Project_Notebook/a38e5576)查看本环境基本用法.  <br>\n",
    "Please click [here ](https://ai.baidu.com/docs#/AIStudio_Project_Notebook/a38e5576) for more detailed instructions. "
   ]
  }
 ],
 "metadata": {
  "kernelspec": {
   "display_name": "PaddlePaddle 2.1.0 (Python 3.5)",
   "language": "python",
   "name": "py35-paddle1.2.0"
  },
  "language_info": {
   "codemirror_mode": {
    "name": "ipython",
    "version": 3
   },
   "file_extension": ".py",
   "mimetype": "text/x-python",
   "name": "python",
   "nbconvert_exporter": "python",
   "pygments_lexer": "ipython3",
   "version": "3.7.4"
  }
 },
 "nbformat": 4,
 "nbformat_minor": 1
}
